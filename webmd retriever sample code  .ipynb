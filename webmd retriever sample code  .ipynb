{
 "cells": [
  {
   "cell_type": "code",
   "execution_count": 3,
   "id": "0bec349a",
   "metadata": {},
   "outputs": [],
   "source": [
    "import json"
   ]
  },
  {
   "cell_type": "code",
   "execution_count": 4,
   "id": "212a6dc7",
   "metadata": {},
   "outputs": [],
   "source": [
    "f = open('med.json')\n",
    "data = json.load(f)"
   ]
  },
  {
   "cell_type": "code",
   "execution_count": null,
   "id": "77418e29",
   "metadata": {},
   "outputs": [],
   "source": []
  },
  {
   "cell_type": "code",
   "execution_count": 18,
   "id": "140381c0",
   "metadata": {},
   "outputs": [
    {
     "name": "stdout",
     "output_type": "stream",
     "text": [
      "This medication is a multivitamin and iron product used to treat or prevent vitamin deficiency due to poor diet, certain illnesses, or during pregnancy. Vitamins and iron are important building blocks of the body and help keep you in good health.\n",
      "\n",
      "\n",
      "\n",
      "\n",
      "Take this medication by mouth, usually once daily or as directed. Follow all directions on the product package, or take as directed by your doctor. Do not take more than the recommended dosage. If you have any questions, ask your doctor or pharmacist. This medication is best taken on an empty stomach 1 hour before or 2 hours after meals. Take with a full glass of water (8 ounces or 240 milliliters) unless your doctor directs you otherwise. If stomach upset occurs, you may take this medication with food. Avoid taking antacids, dairy products, tea, or coffee within 2 hours before or after this medication because they may decrease its effectiveness. Do not lie down for at least 10 minutes after taking the tablets or capsules. Consult your doctor or pharmacist for details for your particular brand. If you are taking the delayed-release form or extended-release capsules, swallow them whole. Do not crush or chew delayed-release or extended-release products. Doing so can release all of the drug at once, increasing the risk of side effects and decreasing absorption. Also, do not split extended-release tablets unless they have a score line and your doctor or pharmacist tells you to do so. Swallow the whole or split tablet without crushing or chewing. Take this medication regularly in order to get the most benefit from it. To help you remember, take it at the same time each day.\n",
      "\n",
      "\n",
      "\n",
      "\n",
      "Constipation, diarrhea, or upset stomach may occur. These effects are usually temporary and may disappear as your body adjusts to this medication. If any of these effects last or get worse, contact your doctor or pharmacist promptly. Iron may cause your stools to turn black, an effect that is not harmful. If your doctor has prescribed this medication, remember that your doctor has judged that the benefit to you is greater than the risk of side effects. Many people using this medication do not have serious side effects. A very serious allergic reaction to this drug is rare. However, get medical help right away if you notice any symptoms of a serious allergic reaction, including: rash, itching/swelling (especially of the face/tongue/throat), severe dizziness, trouble breathing. This is not a complete list of possible side effects. If you notice other effects not listed above, contact your doctor or pharmacist.  In the US - Call your doctor for medical advice about side effects. You may report side effects to FDA at 1-800-FDA-1088 or at www.fda.gov/medwatch. In Canada - Call your doctor for medical advice about side effects. You may report side effects to Health Canada at 1-866-234-2345.\n",
      "\n",
      "\n",
      "\n",
      "\n",
      "Before taking this product, tell your doctor or pharmacist if you are allergic to any of its ingredients; or if you have any other allergies. This product may contain inactive ingredients (such as soy found in some brands), which can cause allergic reactions or other problems. Talk to your pharmacist for more details. Before taking this medication, tell your doctor or pharmacist your medical history, especially of: iron overload disorder (such as hemochromatosis, hemosiderosis), use/abuse of alcohol, liver problems, stomach/intestinal problems (such as ulcer, colitis). If your brand of multivitamin also contains folic acid, be sure to tell your doctor or pharmacist if you have vitamin B12 deficiency (pernicious anemia) before taking it. Folic acid may affect certain laboratory tests for vitamin B12 deficiency without treating this anemia. Untreated vitamin B12 deficiency may result in serious nerve problems (such as peripheral neuropathy). Consult your doctor or pharmacist for details. Tell your doctor if you are pregnant before using this medication. This medication passes into breast milk. Consult your doctor before breast-feeding.\n",
      "\n",
      "\n",
      "\n",
      "\n",
      "See also How To Use section. Drug interactions may change how your medications work or increase your risk for serious side effects. This document does not contain all possible drug interactions. Keep a list of all the products you use (including prescription/nonprescription drugs and herbal products) and share it with your doctor and pharmacist. Do not start, stop, or change the dosage of any medicines without your doctor's approval. This product can decrease the absorption of other drugs such as bisphosphonates (for example, alendronate), levodopa, penicillamine, quinolone antibiotics (for example, ciprofloxacin, levofloxacin), thyroid medications (for example, levothyroxine), and tetracycline antibiotics (for example, doxycycline, minocycline). Separate your doses of these medications as far as possible from your doses of this product. Ask your doctor or pharmacist about how long you should wait between doses and for help finding a dosing schedule that will work with all your medications. If your brand of multivitamin also contains folic acid, be sure to tell your doctor or pharmacist if you take certain anti-seizure drugs (such as hydantoins such as phenytoin). This medication may interfere with certain lab tests, possibly causing false test results. Make sure lab personnel and all your doctors know you use this drug.\n"
     ]
    }
   ],
   "source": [
    "for i in data:\n",
    "    if i=='A':\n",
    "        for j in data[i].keys():\n",
    "            if j!='link':\n",
    "                if j=='aa':\n",
    "                    for k in data[i][j]:\n",
    "                        if k!='link':\n",
    "                            if k=='a thru z':\n",
    "                                print(data[i][j][k]['Uses'])\n",
    "                                print('\\n')\n",
    "                                print('\\n')\n",
    "                                print(data[i][j][k]['How to use'])\n",
    "                                print('\\n')\n",
    "                                print('\\n')\n",
    "                                print(data[i][j][k]['Side Effects'])\n",
    "                                print('\\n')\n",
    "                                print('\\n')\n",
    "                                print(data[i][j][k]['Precautions'])\n",
    "                                print('\\n')\n",
    "                                print('\\n')\n",
    "                                print(data[i][j][k]['Interactions'])\n",
    "\n",
    "                    "
   ]
  },
  {
   "cell_type": "code",
   "execution_count": 20,
   "id": "21bd9959",
   "metadata": {},
   "outputs": [],
   "source": [
    "list_all_meds=[]\n",
    "for i in data:\n",
    "    for j in data[i].keys():\n",
    "        if j!='link':\n",
    "            for k in data[i][j]:\n",
    "                if k!='link':\n",
    "                    list_all_meds.append(k)"
   ]
  },
  {
   "cell_type": "code",
   "execution_count": 21,
   "id": "87e22767",
   "metadata": {},
   "outputs": [
    {
     "data": {
      "text/plain": [
       "10499"
      ]
     },
     "execution_count": 21,
     "metadata": {},
     "output_type": "execute_result"
    }
   ],
   "source": [
    "len(list_all_meds)"
   ]
  },
  {
   "cell_type": "code",
   "execution_count": 8,
   "id": "94000da3",
   "metadata": {},
   "outputs": [
    {
     "name": "stdout",
     "output_type": "stream",
     "text": [
      "link\n",
      "b activ 400 mcg dfe capsule multivitamins\n",
      "b complex with b-12 liquid\n",
      "b complex with c#20-folic acid capsule\n",
      "b complex-c-min-fe-fa tablet\n",
      "b complex-lysine liquid\n",
      "b complex-lysine-iron-fa liquid\n",
      "b complx-c-folic-zinc-copper-e tablet\n",
      "b infan-b long-l acid-l rhamn capsule, sprinkle\n",
      "b-100 complex\n",
      "b-12\n",
      "b-12 compliance kit\n",
      "b-12 tablet, sublingual\n",
      "b-12 tablet,disintegrating\n",
      "b-complex with b-12\n",
      "b-stress\n",
      "b-sure 50 % topical pads astringents\n",
      "b.breve,bifidum,infantis,longum-l.rhamnosus 4 billion cell/gram powder\n",
      "b.breve-l.acid-l.rham-s.thermo tablet, chewable\n",
      "b.coh-tea-ginsg-val-hops-thean tablet, sequential\n",
      "b.subtilis 1.5 billion cell-d3 7.5 mcg-inulin 1.8 gram chew tablet\n",
      "b.subtilis 1.5 billion cell-inulin 1.8 gram-vit c 40 mg chew tablet\n",
      "b1,b2,b3,b6,b12-dexpan-zn-mang elixir\n",
      "b1-b2-b3-b5-b6-fa-b12-c capsule\n",
      "b1-b2-b3-b5-b6-iron-met-choln liquid\n",
      "b2 1.3 mg-b6 phosphate 70 mg-b9 6 mg-b12 4 mg capsule delayed release\n",
      "b2-mag citrate,oxide-feverfew tablet\n",
      "b3-azel-quer-tur-fa-b6-zn-copp tablet\n",
      "b3-b6-c-fa-coppr-mg-zn-alip ac tablet\n",
      "b3-b6-fa-zn-copper-astax-coq10 tablet\n",
      "b3-fa-b6-copper-zn-baikal-cate tablet\n",
      "b6  35 mg-levomefolate 3 mg-mecobalam 2 mg-ala-benfoti capsule del rel\n",
      "b6 35 mg-b9 3 mg-b12 2 mg-d3 62.5 mcg-ala 300 mg capsule,delay release\n",
      "b6-fa-b12-co q10-herb no.225 tablet\n",
      "b6-levomefolate-b12-ala-if tablet\n",
      "baby ayr saline drops\n",
      "baby ddrops\n",
      "baby iron-multivitamin\n",
      "baby probiotic\n",
      "baby skin protectant (petrolatum) 41 % topical ointment\n",
      "baby vitamin d3\n",
      "baby's only dairy 2 gram-80 kcal/17 gram oral powder\n",
      "baby's only organic dairy whey 2 gram-80 kcal/17 gram oral powder\n",
      "babybig vial\n",
      "bacid\n",
      "bacid with lactospore\n",
      "baciim vial\n",
      "bacillus coagulans tablet, chewable\n",
      "bacillus coagulans-lactase capsule\n",
      "bacillus-protease-amylas-lipas capsule\n",
      "bacitracin (bulk) 5 million unit powder\n",
      "bacitracin 500 unit/gram eye ointment\n",
      "bacitracin ointment\n",
      "bacitracin vial\n",
      "bacitracin zinc micronized (bulk) 40 unit/mg powder\n",
      "bacitracin zinc ointment\n",
      "bacitracin-polymyxin b 500 unit-10,000 unit/gram eye ointment\n",
      "back & body pain reliever\n",
      "back pain-off\n",
      "backache extra strength\n",
      "baclofen\n",
      "bacmin\n",
      "bacteriostatic water for trazimera injection solution\n",
      "bactine aerosol, spray with pump\n",
      "bactine max 0.13 % topical solution\n",
      "bactine spray, non-aerosol\n",
      "bactoshield chg 4 % topical liquid\n",
      "bactrim ds\n",
      "bahia vial\n",
      "bal-care dha essential\n",
      "balamine dm\n",
      "balanced salt soln non-surg #6 solution\n",
      "balcoltra\n",
      "bald cypress vial\n",
      "balsalazide disodium\n",
      "balsam canada (bulk) liquid\n",
      "balziva\n",
      "ban-acid\n",
      "banana concentrate liquid\n",
      "banana cream flavor liquid\n",
      "banana creme liquid\n",
      "banana flakes-gos-fiber 5 gram-45 kcal/60 ml tube feed liquid packet\n",
      "banana flavor liquid\n",
      "banana vial\n",
      "banatrol tf 5 gram-45 kcal/60 ml tube feed liquid in packet bulk laxatives\n",
      "band-aid plus antibiotic bandage\n",
      "banophen anti-itch cream\n",
      "baraclude\n",
      "baricitinib tablet\n",
      "basaglar kwikpen u-100 insulin pen\n",
      "base 7542 cream\n",
      "base w301 cream\n",
      "base x flakes\n",
      "base, custom polyglycol pellet\n",
      "base, pcca acacia\n",
      "base, pcca cobase #1 wax\n",
      "base, pcca fixed oil susp\n",
      "base, pcca loxasperse powder\n",
      "base, pcca loxoral powder\n",
      "base, pcca mucolox liquid\n",
      "base, pcca occlusaderm gel\n",
      "base, pcca poloxamer 407 gel\n",
      "base, pcca polypeg wax\n",
      "base, pcca pracamac oil\n",
      "base, pcca rapid dissolve powder\n",
      "base, pcca rdt-plus powder\n",
      "base, pcca rheospray gel\n",
      "base, pcca sorbitol lollipop flakes\n",
      "base, pcca spira-wash gel\n",
      "base, pcca vanishing crm-lot cream\n",
      "base, pcca versabase foam\n",
      "base, pcca xematop cream\n",
      "base, pcca xylifos powder\n",
      "base-i sorbitan monopalmitate cream\n",
      "basiliximab solution, reconstituted (recon soln)\n",
      "bavencio vial\n",
      "baxdela\n",
      "baxdela vial\n",
      "bayberry vial\n",
      "bayer advanced\n",
      "bayer aspirin 325 mg tablet\n",
      "bayer back & body\n",
      "bayer chewable aspirin\n",
      "bayer plus\n",
      "baza antifungal cream\n",
      "baza clear ointment\n",
      "baza protect (zinc oxide) 12 % topical cream\n"
     ]
    }
   ],
   "source": [
    "for i in data:\n",
    "    for j in data[i]:\n",
    "        if j=='ba':\n",
    "            for k in data[i][j].keys():\n",
    "                print(k)"
   ]
  },
  {
   "cell_type": "code",
   "execution_count": null,
   "id": "ccfa06f4",
   "metadata": {},
   "outputs": [],
   "source": []
  }
 ],
 "metadata": {
  "kernelspec": {
   "display_name": "Python 3 (ipykernel)",
   "language": "python",
   "name": "python3"
  },
  "language_info": {
   "codemirror_mode": {
    "name": "ipython",
    "version": 3
   },
   "file_extension": ".py",
   "mimetype": "text/x-python",
   "name": "python",
   "nbconvert_exporter": "python",
   "pygments_lexer": "ipython3",
   "version": "3.9.12"
  }
 },
 "nbformat": 4,
 "nbformat_minor": 5
}
